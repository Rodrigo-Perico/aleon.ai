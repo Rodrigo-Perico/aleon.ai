{
  "nbformat": 4,
  "nbformat_minor": 0,
  "metadata": {
    "colab": {
      "provenance": []
    },
    "kernelspec": {
      "name": "python3",
      "display_name": "Python 3"
    },
    "language_info": {
      "name": "python"
    }
  },
  "cells": [
    {
      "cell_type": "code",
      "execution_count": 90,
      "metadata": {
        "id": "MHGLurAX4Yvx"
      },
      "outputs": [],
      "source": [
        "import requests\n",
        "import time\n",
        "import hashlib\n",
        "import pandas as pd\n",
        "import json\n"
      ]
    },
    {
      "cell_type": "markdown",
      "source": [
        "Definindo"
      ],
      "metadata": {
        "id": "se1K9Q_w-NE-"
      }
    },
    {
      "cell_type": "code",
      "source": [
        "PUBLIC_KEY = \"0b08b7e93738e4973b80ae94c2986e7d\"\n",
        "PRIVATE_KEY = \"292deed8848488aa3574b5eae82f97b0f22da73c\"\n",
        "\n",
        "ts = int(time.time())\n",
        "\n",
        "hash_md5 = hashlib.md5(f\"{ts}{PRIVATE_KEY}{PUBLIC_KEY}\".encode()).hexdigest()\n",
        "\n",
        "url = \"http://gateway.marvel.com/v1/public/characters\"\n",
        "\n",
        "params = {\n",
        "    \"ts\": ts,\n",
        "    \"apikey\": PUBLIC_KEY,\n",
        "    \"hash\": hash_md5\n",
        "    }\n",
        "\n",
        "response = requests.get(url, params=params)"
      ],
      "metadata": {
        "id": "xYeumpHRnv16"
      },
      "execution_count": 131,
      "outputs": []
    },
    {
      "cell_type": "code",
      "source": [
        "data = response.json()\n",
        "characters_list = data['data']['results']\n",
        "\n",
        "df = pd.json_normalize(characters_list)\n"
      ],
      "metadata": {
        "id": "AS-6qUA5-KY_"
      },
      "execution_count": 132,
      "outputs": []
    },
    {
      "cell_type": "code",
      "source": [
        "selected_columns = [\n",
        "        \"id\",\n",
        "        \"name\",\n",
        "        #\"description\",\n",
        "        \"modified\",\n",
        "        \"comics.available\",\n",
        "        \"comics.returned\",\n",
        "        \"series.available\",\n",
        "        \"series.returned\",\n",
        "        \"stories.available\",\n",
        "        \"stories.returned\",\n",
        "        \"events.available\",\n",
        "        \"events.returned\"\n",
        "    ]\n",
        "\n",
        "df = df[selected_columns]\n",
        "\n",
        "print(df.head(90))"
      ],
      "metadata": {
        "colab": {
          "base_uri": "https://localhost:8080/"
        },
        "id": "PJ6bF6Z4-qVW",
        "outputId": "ac14c830-2451-4817-fd2b-c47dd85bc723"
      },
      "execution_count": 133,
      "outputs": [
        {
          "output_type": "stream",
          "name": "stdout",
          "text": [
            "         id                        name                  modified  \\\n",
            "0   1011334                     3-D Man  2014-04-29T14:18:17-0400   \n",
            "1   1017100                A-Bomb (HAS)  2013-09-18T15:54:04-0400   \n",
            "2   1009144                      A.I.M.  2013-10-17T14:41:30-0400   \n",
            "3   1010699                 Aaron Stack  1969-12-31T19:00:00-0500   \n",
            "4   1009146  Abomination (Emil Blonsky)  2014-06-27T19:39:07-0400   \n",
            "5   1016823      Abomination (Ultimate)  2012-07-10T19:11:52-0400   \n",
            "6   1009148               Absorbing Man  2016-05-25T12:04:23-0400   \n",
            "7   1009149                       Abyss  2014-04-29T14:10:43-0400   \n",
            "8   1010903   Abyss (Age of Apocalypse)  1969-12-31T19:00:00-0500   \n",
            "9   1011266                Adam Destine  1969-12-31T19:00:00-0500   \n",
            "10  1010354                Adam Warlock  2016-05-05T15:34:56-0400   \n",
            "11  1010846        Aegis (Trey Rollins)  1969-12-31T19:00:00-0500   \n",
            "12  1017851                 Aero (Aero)  2021-08-27T17:52:34-0400   \n",
            "13  1012717             Agatha Harkness  2021-08-06T11:30:56-0400   \n",
            "14  1011297                 Agent Brand  2013-10-24T13:09:30-0400   \n",
            "15  1011031              Agent X (Nijo)  1969-12-31T19:00:00-0500   \n",
            "16  1009150                  Agent Zero  1969-12-31T19:00:00-0500   \n",
            "17  1011198             Agents of Atlas  2016-02-03T10:25:22-0500   \n",
            "18  1011175                      Aginar  1969-12-31T19:00:00-0500   \n",
            "19  1011136    Air-Walker (Gabriel Lan)  2024-09-24T11:11:31-0400   \n",
            "\n",
            "    comics.available  comics.returned  series.available  series.returned  \\\n",
            "0                 12               12                 3                3   \n",
            "1                  4                4                 2                2   \n",
            "2                 53               20                36               20   \n",
            "3                 14               14                 3                3   \n",
            "4                 58               20                28               20   \n",
            "5                  2                2                 2                2   \n",
            "6                104               20                53               20   \n",
            "7                  8                8                 3                3   \n",
            "8                  3                3                 3                3   \n",
            "9                  0                0                 0                0   \n",
            "10               202               20                89               20   \n",
            "11                 0                0                 0                0   \n",
            "12                29               20                 5                5   \n",
            "13                26               20                15               15   \n",
            "14                35               20                 9                9   \n",
            "15                18               18                 3                3   \n",
            "16                29               20                10               10   \n",
            "17                45               20                13               13   \n",
            "18                 0                0                 0                0   \n",
            "19                 4                4                 3                3   \n",
            "\n",
            "    stories.available  stories.returned  events.available  events.returned  \n",
            "0                  21                20                 1                1  \n",
            "1                   7                 7                 0                0  \n",
            "2                  57                20                 0                0  \n",
            "3                  27                20                 0                0  \n",
            "4                  68                20                 1                1  \n",
            "5                   3                 3                 0                0  \n",
            "6                 117                20                 5                5  \n",
            "7                   8                 8                 1                1  \n",
            "8                   2                 2                 1                1  \n",
            "9                   0                 0                 0                0  \n",
            "10                232                20                 8                8  \n",
            "11                  0                 0                 0                0  \n",
            "12                 29                20                 0                0  \n",
            "13                 31                20                 0                0  \n",
            "14                 39                20                 0                0  \n",
            "15                 23                20                 0                0  \n",
            "16                 31                20                 0                0  \n",
            "17                 52                20                 1                1  \n",
            "18                  0                 0                 0                0  \n",
            "19                  3                 3                 1                1  \n"
          ]
        }
      ]
    }
  ]
}